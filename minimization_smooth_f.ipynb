{
 "cells": [
  {
   "cell_type": "markdown",
   "metadata": {},
   "source": [
    "# Задача 1. Минимизация гладкой функции"
   ]
  },
  {
   "cell_type": "markdown",
   "metadata": {},
   "source": [
    "$$ f(x) = sin(x / 5) * exp(x / 10) + 5 * exp(-x / 2) $$\n",
    "\n",
    "$$ промежуток [1,30]$$"
   ]
  },
  {
   "cell_type": "code",
   "execution_count": 69,
   "metadata": {},
   "outputs": [],
   "source": [
    "import scipy\n",
    "from scipy import optimize\n",
    "import math\n",
    "import numpy as np\n",
    "import matplotlib.pyplot as plt"
   ]
  },
  {
   "cell_type": "code",
   "execution_count": 70,
   "metadata": {},
   "outputs": [],
   "source": [
    "# исходная функция, вычисление значений\n",
    "def our_func(x):\n",
    "    return (math.sin(x/5.0))*(math.exp(x/10.0)) + 5*(math.exp(-x/2.0))"
   ]
  },
  {
   "cell_type": "code",
   "execution_count": 71,
   "metadata": {},
   "outputs": [],
   "source": [
    "# функция простой минимизации\n",
    "def simple_minimize(x0):\n",
    "    res = scipy.optimize.minimize(our_func, x0=x0)\n",
    "    return 'x0 = ' + str(x0) + ' fun = ' + str(res.fun) "
   ]
  },
  {
   "cell_type": "markdown",
   "metadata": {},
   "source": [
    "## Внешний вид функции"
   ]
  },
  {
   "cell_type": "code",
   "execution_count": 72,
   "metadata": {},
   "outputs": [],
   "source": [
    "# исходная функция через numpy для наглядности\n",
    "def our_func_np(x):\n",
    "    return (np.sin(x/5.0))*(np.exp(x/10.0)) + 5*(np.exp(-x/2.0))"
   ]
  },
  {
   "cell_type": "markdown",
   "metadata": {},
   "source": [
    "#### На заданном промежутке - [1,30]"
   ]
  },
  {
   "cell_type": "code",
   "execution_count": 73,
   "metadata": {},
   "outputs": [
    {
     "data": {
      "image/png": "[encoded data removed]",
      "text/plain": [
       "<Figure size 432x288 with 1 Axes>"
      ]
     },
     "metadata": {
      "needs_background": "light"
     },
     "output_type": "display_data"
    }
   ],
   "source": [
    "fig = plt.subplots()\n",
    "x = np.arange(0.0, 35.0, 0.2)\n",
    "plt.xlabel('$x$') # Метка по оси x в формате TeX\n",
    "plt.ylabel('$f(x) = sin(x / 5) * exp(x / 10) + 5 * exp(-x / 2)$') # Метка по оси y в формате TeX\n",
    "plt.grid(True) # Сетка\n",
    "plt.plot(x, our_func_np(x))\n",
    "plt.show()"
   ]
  },
  {
   "cell_type": "markdown",
   "metadata": {},
   "source": [
    "### Нахождение минимума, используя стандартные параметры в функции scipy.optimize.minimize"
   ]
  },
  {
   "cell_type": "code",
   "execution_count": 74,
   "metadata": {},
   "outputs": [],
   "source": [
    "x0 = np.arange(1.0, 30.0, 1.0) # массив потенциальных начальных приближений"
   ]
  },
  {
   "cell_type": "code",
   "execution_count": 75,
   "metadata": {},
   "outputs": [
    {
     "name": "stdout",
     "output_type": "stream",
     "text": [
      "[ 1.  2.  3.  4.  5.  6.  7.  8.  9. 10. 11. 12. 13. 14. 15. 16. 17. 18.\n",
      " 19. 20. 21. 22. 23. 24. 25. 26. 27. 28. 29.]\n"
     ]
    }
   ],
   "source": [
    "print x0"
   ]
  },
  {
   "cell_type": "code",
   "execution_count": 76,
   "metadata": {},
   "outputs": [
    {
     "data": {
      "text/plain": [
       "['x0 = 1.0 fun = 1.74526829033',\n",
       " 'x0 = 2.0 fun = 1.74526829034',\n",
       " 'x0 = 3.0 fun = 1.74526829059',\n",
       " 'x0 = 4.0 fun = 1.74526829041',\n",
       " 'x0 = 5.0 fun = 1.74526829033',\n",
       " 'x0 = 6.0 fun = 1.74526829033',\n",
       " 'x0 = 7.0 fun = 1.74526829033',\n",
       " 'x0 = 8.0 fun = 1.74526829033',\n",
       " 'x0 = 9.0 fun = 1.74526829035',\n",
       " 'x0 = 10.0 fun = 1.74526829034',\n",
       " 'x0 = 11.0 fun = -11.898894666',\n",
       " 'x0 = 12.0 fun = -11.898894666',\n",
       " 'x0 = 13.0 fun = -6371.76522917',\n",
       " 'x0 = 14.0 fun = -11.898894666',\n",
       " 'x0 = 15.0 fun = -11.5035807571',\n",
       " 'x0 = 16.0 fun = -11.898894666',\n",
       " 'x0 = 17.0 fun = -11.8988946659',\n",
       " 'x0 = 18.0 fun = -11.898894666',\n",
       " 'x0 = 19.0 fun = -11.8988946659',\n",
       " 'x0 = 20.0 fun = -11.898894666',\n",
       " 'x0 = 21.0 fun = -11.8988946659',\n",
       " 'x0 = 22.0 fun = -11.898894666',\n",
       " 'x0 = 23.0 fun = -11.898894666',\n",
       " 'x0 = 24.0 fun = -11.898894666',\n",
       " 'x0 = 25.0 fun = -11.898894666',\n",
       " 'x0 = 26.0 fun = -11.898894666',\n",
       " 'x0 = 27.0 fun = -11.898894666',\n",
       " 'x0 = 28.0 fun = -11.898894666',\n",
       " 'x0 = 29.0 fun = -11.8988946659']"
      ]
     },
     "execution_count": 76,
     "metadata": {},
     "output_type": "execute_result"
    }
   ],
   "source": [
    "map(simple_minimize, x0)"
   ]
  },
  {
   "cell_type": "markdown",
   "metadata": {},
   "source": [
    "#### Резутат:\n",
    "Видно, что для различных значений начального приближения можно выделить два локальных минимума.\n",
    "Заметно также, что чем ближе начальное приближение к точке локального минимума, тем больше вероятность нахождения минимума в текущей области"
   ]
  },
  {
   "cell_type": "markdown",
   "metadata": {},
   "source": [
    "### Нахождение минимума, используя метод BFGS и начальное приближение x0=2"
   ]
  },
  {
   "cell_type": "code",
   "execution_count": 77,
   "metadata": {
    "scrolled": true
   },
   "outputs": [
    {
     "name": "stdout",
     "output_type": "stream",
     "text": [
      "      fun: 1.7452682903447336\n",
      " hess_inv: array([[5.98752645]])\n",
      "      jac: array([-2.04145908e-06])\n",
      "  message: 'Optimization terminated successfully.'\n",
      "     nfev: 21\n",
      "      nit: 6\n",
      "     njev: 7\n",
      "   status: 0\n",
      "  success: True\n",
      "        x: array([4.13627628])\n"
     ]
    }
   ],
   "source": [
    "res_1 = scipy.optimize.minimize(our_func, x0=2, method='BFGS')\n",
    "print res_1"
   ]
  },
  {
   "cell_type": "markdown",
   "metadata": {},
   "source": [
    "### Нахождение минимума, используя метод BFGS и начальное приближение x0=30"
   ]
  },
  {
   "cell_type": "code",
   "execution_count": 78,
   "metadata": {},
   "outputs": [
    {
     "name": "stdout",
     "output_type": "stream",
     "text": [
      "      fun: -11.898894665981313\n",
      " hess_inv: array([[1.67936744]])\n",
      "      jac: array([0.])\n",
      "  message: 'Optimization terminated successfully.'\n",
      "     nfev: 21\n",
      "      nit: 6\n",
      "     njev: 7\n",
      "   status: 0\n",
      "  success: True\n",
      "        x: array([25.88019321])\n"
     ]
    }
   ],
   "source": [
    "res_2 = scipy.optimize.minimize(our_func, x0=30, method='BFGS')\n",
    "print res_2"
   ]
  },
  {
   "cell_type": "markdown",
   "metadata": {},
   "source": [
    "## Ответ:\n",
    "$$ x0 = 2$$\n",
    "$$fun = 1.7452682903447336 $$"
   ]
  },
  {
   "cell_type": "markdown",
   "metadata": {},
   "source": [
    "$$ x0 = 30$$\n",
    "$$fun = -11.898894665981313 $$"
   ]
  },
  {
   "cell_type": "markdown",
   "metadata": {},
   "source": [
    "Данные результаты корректны и соотносятся с графиком исходной функции"
   ]
  },
  {
   "cell_type": "markdown",
   "metadata": {},
   "source": [
    "#### Запись результатов в файл"
   ]
  },
  {
   "cell_type": "code",
   "execution_count": 79,
   "metadata": {},
   "outputs": [],
   "source": [
    "with open('task_first_answer.txt', 'w') as func_value:\n",
    "    func_value.write(str(res_1.fun) + ' ' + str(res_2.fun))"
   ]
  }
 ],
 "metadata": {
  "kernelspec": {
   "display_name": "Python 2",
   "language": "python",
   "name": "python2"
  },
  "language_info": {
   "codemirror_mode": {
    "name": "ipython",
    "version": 2
   },
   "file_extension": ".py",
   "mimetype": "text/x-python",
   "name": "python",
   "nbconvert_exporter": "python",
   "pygments_lexer": "ipython2",
   "version": "2.7.16"
  }
 },
 "nbformat": 4,
 "nbformat_minor": 2
}
